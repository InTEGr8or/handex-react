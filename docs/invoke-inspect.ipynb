{
 "cells": [
  {
   "cell_type": "code",
   "execution_count": null,
   "metadata": {
    "dotnet_interactive": {
     "language": "pwsh"
    },
    "polyglot_notebook": {
     "kernelName": "pwsh"
    },
    "vscode": {
     "languageId": "polyglot-notebook"
    }
   },
   "outputs": [],
   "source": [
    "\n",
    "# Define the payload with the 'body' property\n",
    "$payloadObject = @{\n",
    "    body = '{ \"username\": \"testuser\", \"password\": \"FastTrack#1\", \"email\": \"email@example.com\" }'\n",
    "}\n",
    "# Convert the payload object to JSON\n",
    "$payloadJson = $payloadObject | ConvertTo-Json\n",
    "# Convert the JSON to a UTF-8 byte array\n",
    "$bytes = [System.Text.Encoding]::UTF8.GetBytes($payloadJson)\n",
    "# Convert the byte array to a Base64-encoded string\n",
    "$base64 = [Convert]::ToBase64String($bytes)\n",
    "# Invoke the Lambda function with the Base64-encoded payload\n",
    "aws lambda invoke --function-name HandTermCdkStack-SignUpFunctionCFE784C5-qDLsuBvd1ODa --payload $base64 response.json "
   ]
  },
  {
   "cell_type": "code",
   "execution_count": null,
   "metadata": {
    "dotnet_interactive": {
     "language": "pwsh"
    },
    "polyglot_notebook": {
     "kernelName": "pwsh"
    },
    "vscode": {
     "languageId": "polyglot-notebook"
    }
   },
   "outputs": [],
   "source": [
    "aws logs describe-log-groups"
   ]
  },
  {
   "cell_type": "code",
   "execution_count": null,
   "metadata": {
    "dotnet_interactive": {
     "language": "pwsh"
    },
    "polyglot_notebook": {
     "kernelName": "pwsh"
    },
    "vscode": {
     "languageId": "polyglot-notebook"
    }
   },
   "outputs": [],
   "source": [
    "aws logs describe-log-streams --log-group-name /aws/lambda/HandTermCdkStack-SignUpFunctionCFE784C5-qDLsuBvd1ODa --order-by LastEventTime --descending --limit 2"
   ]
  },
  {
   "cell_type": "code",
   "execution_count": null,
   "metadata": {
    "dotnet_interactive": {
     "language": "pwsh"
    },
    "polyglot_notebook": {
     "kernelName": "pwsh"
    },
    "vscode": {
     "languageId": "polyglot-notebook"
    }
   },
   "outputs": [],
   "source": [
    "aws logs filter-log-events `\n",
    "    --log-group-name /aws/lambda/HandTermCdkStack-SignUpFunctionCFE784C5-qDLsuBvd1ODa `\n",
    "    --filter-pattern '\"ERROR\"'"
   ]
  },
  {
   "cell_type": "code",
   "execution_count": null,
   "metadata": {
    "dotnet_interactive": {
     "language": "pwsh"
    },
    "polyglot_notebook": {
     "kernelName": "pwsh"
    },
    "vscode": {
     "languageId": "polyglot-notebook"
    }
   },
   "outputs": [],
   "source": [
    "aws logs get-log-events `\n",
    "  --log-group-name /aws/lambda/HandTermCdkStack-SignUpFunctionCFE784C5-qDLsuBvd1ODa `\n",
    "  --log-stream-name '2024/06/29/[$LATEST]d32288a07db64f3f85e0a95de858b4c9' --limit 10\n"
   ]
  },
  {
   "cell_type": "code",
   "execution_count": null,
   "metadata": {
    "dotnet_interactive": {
     "language": "pwsh"
    },
    "polyglot_notebook": {
     "kernelName": "pwsh"
    },
    "vscode": {
     "languageId": "polyglot-notebook"
    }
   },
   "outputs": [],
   "source": [
    "aws apigateway get-rest-apis | Set-Variable apisYaml\n",
    "$apisYaml"
   ]
  },
  {
   "cell_type": "code",
   "execution_count": null,
   "metadata": {
    "dotnet_interactive": {
     "language": "pwsh"
    },
    "polyglot_notebook": {
     "kernelName": "pwsh"
    },
    "vscode": {
     "languageId": "polyglot-notebook"
    }
   },
   "outputs": [],
   "source": [
    "$apisYaml | ConvertFrom-Yaml | Select-Object { $_.items } | Set-Variable apis\n",
    "$apis | select-object $_.items"
   ]
  },
  {
   "cell_type": "code",
   "execution_count": null,
   "metadata": {
    "dotnet_interactive": {
     "language": "pwsh"
    },
    "polyglot_notebook": {
     "kernelName": "pwsh"
    },
    "vscode": {
     "languageId": "polyglot-notebook"
    }
   },
   "outputs": [],
   "source": [
    "aws apigateway get-resources --rest-api-id u4ceo7qshi"
   ]
  },
  {
   "cell_type": "code",
   "execution_count": null,
   "metadata": {
    "dotnet_interactive": {
     "language": "pwsh"
    },
    "polyglot_notebook": {
     "kernelName": "pwsh"
    },
    "vscode": {
     "languageId": "polyglot-notebook"
    }
   },
   "outputs": [],
   "source": [
    "aws apigateway get-method --rest-api-id u4ceo7qshi --resource-id p1xomh011j --http-method OPTIONS"
   ]
  },
  {
   "cell_type": "code",
   "execution_count": null,
   "metadata": {
    "dotnet_interactive": {
     "language": "pwsh"
    },
    "polyglot_notebook": {
     "kernelName": "pwsh"
    },
    "vscode": {
     "languageId": "polyglot-notebook"
    }
   },
   "outputs": [],
   "source": [
    "curl -X POST 'https://u4ceo7qshi.execute-api.us-east-1.amazonaws.com/prod/signup'  'Content-Type: application/json' -d '{\"username\": \"example1@example.com\", \"password\": \"Pass_w0rd\", \"email\": \"example1@example.com\"}'"
   ]
  },
  {
   "cell_type": "code",
   "execution_count": null,
   "metadata": {
    "dotnet_interactive": {
     "language": "pwsh"
    },
    "polyglot_notebook": {
     "kernelName": "pwsh"
    },
    "vscode": {
     "languageId": "polyglot-notebook"
    }
   },
   "outputs": [],
   "source": [
    "curl 'https://u4ceo7qshi.execute-api.us-east-1.amazonaws.com/prod/signUp' `\n",
    "  -X 'OPTIONS' `\n",
    "  -H 'accept: */*' `\n",
    "  -H 'accept-language: en-US,en;q=0.9' `\n",
    "  -H 'access-control-request-headers: access-control-allow-origin,content-type' `\n",
    "  -H 'access-control-request-method: POST' `\n",
    "  -H 'origin: http://localhost:5173' `\n",
    "  -H 'priority: u=1, i' `\n",
    "  -H 'referer: http://localhost:5173/' `\n",
    "  -H 'sec-fetch-dest: empty' `\n",
    "  -H 'sec-fetch-mode: cors' `\n",
    "  -H 'sec-fetch-site: cross-site' `\n",
    "  -H 'user-agent: Mozilla/5.0 (Windows NT 10.0; Win64; x64) AppleWebKit/537.36 (KHTML, like Gecko) Chrome/126.0.0.0 Safari/537.36 Edg/126.0.0.0'"
   ]
  },
  {
   "cell_type": "code",
   "execution_count": null,
   "metadata": {
    "dotnet_interactive": {
     "language": "pwsh"
    },
    "polyglot_notebook": {
     "kernelName": "pwsh"
    },
    "vscode": {
     "languageId": "polyglot-notebook"
    }
   },
   "outputs": [],
   "source": [
    "curl 'https://u4ceo7qshi.execute-api.us-east-1.amazonaws.com/prod/signUp' `\n",
    "  -H 'sec-ch-ua: \"Not/A)Brand\";v=\"8\", \"Chromium\";v=\"126\", \"Microsoft Edge\";v=\"126\"' `\n",
    "  -H 'sec-ch-ua-mobile: ?0' `\n",
    "  -H 'User-Agent: Mozilla/5.0 (Windows NT 10.0; Win64; x64) AppleWebKit/537.36 (KHTML, like Gecko) Chrome/126.0.0.0 Safari/537.36 Edg/126.0.0.0' `\n",
    "  -H 'Content-Type: application/json' `\n",
    "  -H 'Access-Control-Allow-Origin: *' `\n",
    "  -H 'Accept: application/json, text/plain, */*' `\n",
    "  -H 'Referer: http://localhost:5173/' `\n",
    "  -H 'sec-ch-ua-platform: \"Windows\"' `\n",
    "  --data-raw '{\"username\":\"mark@bizkite.co\",\"password\":\"Pass_w0rd\",\"email\":\"mark@bizkite.co\"}'"
   ]
  },
  {
   "cell_type": "code",
   "execution_count": null,
   "metadata": {
    "dotnet_interactive": {
     "language": "pwsh"
    },
    "polyglot_notebook": {
     "kernelName": "pwsh"
    },
    "vscode": {
     "languageId": "polyglot-notebook"
    }
   },
   "outputs": [],
   "source": [
    "aws cognito-idp list-users --user-pool-id us-east-1_3uSNUrQbE --region us-east-1 --profile mark"
   ]
  },
  {
   "cell_type": "code",
   "execution_count": null,
   "metadata": {
    "dotnet_interactive": {
     "language": "pwsh"
    },
    "polyglot_notebook": {
     "kernelName": "pwsh"
    },
    "vscode": {
     "languageId": "polyglot-notebook"
    }
   },
   "outputs": [],
   "source": [
    "aws apigateway get-deployments --rest-api-id u4ceo7qshii"
   ]
  },
  {
   "cell_type": "code",
   "execution_count": 10,
   "metadata": {
    "dotnet_interactive": {
     "language": "pwsh"
    },
    "polyglot_notebook": {
     "kernelName": "pwsh"
    },
    "vscode": {
     "languageId": "polyglot-notebook"
    }
   },
   "outputs": [
    {
     "name": "stdout",
     "output_type": "stream",
     "text": [
      "- - /aws-glue/crawlers\n",
      "  - /aws/appsync/apis/vtc43wot35fs3ho5er5eljxv2a\n",
      "  - /aws/chatbot/civilton-chatbot-configuration\n",
      "  - /aws/lambda-insights\n",
      "  - /aws/lambda/AWSHealthCredsExposed-DeleteAccessKeyPair-WdP6v2mznhiV\n",
      "  - /aws/lambda/AWSHealthCredsExposed-DeleteAccessKeyPair-pcgGESrGzyoP\n",
      "  - /aws/lambda/HandTermCdkStack-AuthorizerFunctionB4DBAA43-dZ0LJSL7a081\n",
      "  - /aws/lambda/HandTermCdkStack-GetLogFunction03FFABB2-UrvQHD0fkbIw\n",
      "  - /aws/lambda/HandTermCdkStack-GetUserFunctionD3D353B4-q2BRCfPiy27i\n",
      "  - /aws/lambda/HandTermCdkStack-LambdaAtEdgeFunction29DB2087-zctkKM9ApxIy\n",
      "  - /aws/lambda/HandTermCdkStack-PreSignupLambda04C51F3C-EjKWLzowbaIP\n",
      "  - /aws/lambda/HandTermCdkStack-RefreshTokenFunction37E34807-8Xoa4qMT6Lbw\n",
      "  - /aws/lambda/HandTermCdkStack-SaveLogFunctionFDAB0521-mYEZ4gxLOniA\n",
      "  - /aws/lambda/HandTermCdkStack-SetUserFunction49B5984A-pSPojGUDojBc\n",
      "  - /aws/lambda/HandTermCdkStack-SignInFunctionC4D5EA9B-E6d8zuIvVCLo\n",
      "  - /aws/lambda/HandTermCdkStack-SignInFunctionC4D5EA9B-ghsuocAqkIzu\n",
      "  - /aws/lambda/HandTermCdkStack-SignUpFunctionCFE784C5-qDLsuBvd1ODa\n",
      "  - /aws/lambda/HandTermCdkStack-SignUpFunctionCFE784C5-sOf6xRBFDnB4\n",
      "  - /aws/lambda/amplify-mygrandparents-st-HostedUIProvidersCustomR-a878LBHYM62B\n",
      "  - /aws/lambda/amplify-mygrandparents-st-UpdateRolesWithIDPFuncti-mjMsT0LyOAOE\n",
      "  - /aws/lambda/amplify-mygrandparents-stag-HostedUICustomResource-lsInNhsErlq6\n",
      "  - /aws/lambda/amplify-mygrandparents-stagin-UserPoolClientLambda-WngAphY2SrzM\n",
      "  - /aws/lambda/amplify-mygrandparents-staging-OAuthCustomResource-mHNmbAe40yXf\n",
      "  - /aws/lambda/chord-phrase\n",
      "  - /aws/lambda/email-verifier\n",
      "  - /aws/lambda/sam-pytube-HelloWorldFunction-7ooqkbdKJJcQ\n",
      "  - /aws/lambda/vlc_tube\n",
      "  - /aws/rds/cluster/politicalerectness/error\n",
      "  - /aws/sagemaker/NotebookInstances\n",
      "  - /aws/sagemaker/studio\n",
      "  - /aws/vendedlogs/states/ExposedKeyStepFunction-75jwAAelj8A2-Logs\n",
      "  - /ecs/nextjs-mongodb-app-task\n",
      "  - /ecs/workpress-mysql\n",
      "  - /subnet-a-flow-log/\n",
      "  - AwsEcsWordpressStack-TaskDefWordpressLogGroup6E045402-JfgupGVdALVx\n",
      "  - aws-cloudtrail-logs-318364255844-47157c10\n",
      "  - codebuild-mycli\n"
     ]
    }
   ],
   "source": []
  },
  {
   "cell_type": "code",
   "execution_count": 1,
   "metadata": {
    "dotnet_interactive": {
     "language": "pwsh"
    },
    "polyglot_notebook": {
     "kernelName": "pwsh"
    },
    "vscode": {
     "languageId": "polyglot-notebook"
    }
   },
   "outputs": [
    {
     "name": "stdout",
     "output_type": "stream",
     "text": [
      "/aws/lambda/HandTermCdkStack-GetLogFunction03FFABB2-UrvQHD0fkbIw\r\n"
     ]
    }
   ],
   "source": [
    "aws cloudformation list-stack-resources --stack-name HandTermCdkStack --region us-east-1 --query \"StackResourceSummaries[?ResourceType=='AWS::Lambda::Function' && contains(PhysicalResourceId, 'GetLog')].PhysicalResourceId\" --output text | Set-Variable logGroupName\n",
    "$logGroupName = '/aws/lambda/' + $logGroupName\n",
    "$logGroupName"
   ]
  },
  {
   "cell_type": "code",
   "execution_count": 31,
   "metadata": {
    "dotnet_interactive": {
     "language": "pwsh"
    },
    "polyglot_notebook": {
     "kernelName": "pwsh"
    },
    "vscode": {
     "languageId": "polyglot-notebook"
    }
   },
   "outputs": [
    {
     "name": "stdout",
     "output_type": "stream",
     "text": [
      "- logGroups:\n",
      "  - arn: arn:aws:logs:us-east-1:318364255844:log-group:/aws/lambda/HandTermCdkStack-GetLogFunction03FFABB2-UrvQHD0fkbIw:*\n",
      "    creationTime: 1720152675778\n",
      "    logGroupName: /aws/lambda/HandTermCdkStack-GetLogFunction03FFABB2-UrvQHD0fkbIw\n",
      "    metricFilterCount: 0\n",
      "    storedBytes: 0\n"
     ]
    }
   ],
   "source": [
    "aws logs describe-log-groups --log-group-name-prefix $logGroupName "
   ]
  },
  {
   "cell_type": "code",
   "execution_count": 33,
   "metadata": {
    "dotnet_interactive": {
     "language": "pwsh"
    },
    "polyglot_notebook": {
     "kernelName": "pwsh"
    },
    "vscode": {
     "languageId": "polyglot-notebook"
    }
   },
   "outputs": [
    {
     "name": "stdout",
     "output_type": "stream",
     "text": [
      "2024/07/05/[$LATEST]eba1a2fbcf56430e9a867a0b907c3294\r\n"
     ]
    }
   ],
   "source": [
    "$latestLogStreamName = aws logs describe-log-streams --log-group-name $logGroupName --order-by LastEventTime --descending --max-items 1 --query \"logStreams[0].logStreamName\" --output text\n",
    "$latestLogStreamName"
   ]
  },
  {
   "cell_type": "code",
   "execution_count": 34,
   "metadata": {
    "dotnet_interactive": {
     "language": "pwsh"
    },
    "polyglot_notebook": {
     "kernelName": "pwsh"
    },
    "vscode": {
     "languageId": "polyglot-notebook"
    }
   },
   "outputs": [
    {
     "name": "stdout",
     "output_type": "stream",
     "text": [
      "- events:\n",
      "  - ingestionTime: 1720152675821\n",
      "    message: \"INIT_START Runtime Version: nodejs:16.v37\\tRuntime Version ARN: arn:aws:lambda:us-east-1::runtime:7d9f34a41378930af26519f438f0b22857edb2581851f89f92884d465e966add\\n\"\n",
      "    timestamp: 1720152668163\n",
      "  - ingestionTime: 1720152675821\n",
      "    message: 'START RequestId: 04e47b78-ee9d-41aa-b1d0-6fcae926f573 Version: $LATEST\n",
      "\n",
      "      '\n",
      "    timestamp: 1720152668654\n",
      "  - ingestionTime: 1720152675821\n",
      "    message: \"2024-07-05T04:11:08.748Z\\t04e47b78-ee9d-41aa-b1d0-6fcae926f573\\tERROR\\tInvoke\n",
      "      Error \\t{\\\"errorType\\\":\\\"TypeError\\\",\\\"errorMessage\\\":\\\"Cannot read properties\n",
      "      of undefined (reading 'authorizer')\\\",\\\"stack\\\":[\\\"TypeError: Cannot read properties\n",
      "      of undefined (reading 'authorizer')\\\",\\\"    at Runtime.exports.handler (/var/task/getLog.js:6:66)\\\",\\\"\n",
      "      \\   at Runtime.handleOnceNonStreaming (file:///var/runtime/index.mjs:1173:29)\\\"]}\\n\"\n",
      "    timestamp: 1720152668748\n",
      "  - ingestionTime: 1720152675821\n",
      "    message: 'END RequestId: 04e47b78-ee9d-41aa-b1d0-6fcae926f573\n",
      "\n",
      "      '\n",
      "    timestamp: 1720152668810\n",
      "  - ingestionTime: 1720152675821\n",
      "    message: \"REPORT RequestId: 04e47b78-ee9d-41aa-b1d0-6fcae926f573\\tDuration: 153.39\n",
      "      ms\\tBilled Duration: 154 ms\\tMemory Size: 128 MB\\tMax Memory Used: 85 MB\\tInit\n",
      "      Duration: 490.18 ms\\t\\n\"\n",
      "    timestamp: 1720152668810\n",
      "  nextBackwardToken: b/38360686355275662546055235959542511878238157974137143296/s\n",
      "  nextForwardToken: f/38360686369704244689504549132116121600641647868506472452/s\n"
     ]
    }
   ],
   "source": [
    "aws logs get-log-events --log-group-name $logGroupName --log-stream-name $latestLogStreamName --limit 10"
   ]
  }
 ],
 "metadata": {
  "kernelspec": {
   "display_name": ".NET (C#)",
   "language": "C#",
   "name": ".net-csharp"
  },
  "language_info": {
   "codemirror_mode": {
    "name": "ipython",
    "version": 3
   },
   "file_extension": ".py",
   "mimetype": "text/x-python",
   "name": "python",
   "nbconvert_exporter": "python",
   "pygments_lexer": "ipython3",
   "version": "3.11.9"
  },
  "polyglot_notebook": {
   "kernelInfo": {
    "defaultKernelName": "csharp",
    "items": [
     {
      "aliases": [],
      "name": "csharp"
     }
    ]
   }
  }
 },
 "nbformat": 4,
 "nbformat_minor": 2
}
