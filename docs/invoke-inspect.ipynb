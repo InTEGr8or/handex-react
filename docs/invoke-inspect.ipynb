{
 "cells": [
  {
   "cell_type": "code",
   "execution_count": null,
   "metadata": {
    "dotnet_interactive": {
     "language": "pwsh"
    },
    "polyglot_notebook": {
     "kernelName": "pwsh"
    },
    "vscode": {
     "languageId": "polyglot-notebook"
    }
   },
   "outputs": [],
   "source": [
    "\n",
    "# Define the payload with the 'body' property\n",
    "$payloadObject = @{\n",
    "    body = '{ \"username\": \"testuser\", \"password\": \"FastTrack#1\", \"email\": \"email@example.com\" }'\n",
    "}\n",
    "# Convert the payload object to JSON\n",
    "$payloadJson = $payloadObject | ConvertTo-Json\n",
    "# Convert the JSON to a UTF-8 byte array\n",
    "$bytes = [System.Text.Encoding]::UTF8.GetBytes($payloadJson)\n",
    "# Convert the byte array to a Base64-encoded string\n",
    "$base64 = [Convert]::ToBase64String($bytes)\n",
    "# Invoke the Lambda function with the Base64-encoded payload\n",
    "aws lambda invoke --function-name HandTermCdkStack-SignUpFunctionCFE784C5-qDLsuBvd1ODa --payload $base64 response.json "
   ]
  },
  {
   "cell_type": "code",
   "execution_count": null,
   "metadata": {
    "dotnet_interactive": {
     "language": "pwsh"
    },
    "polyglot_notebook": {
     "kernelName": "pwsh"
    },
    "vscode": {
     "languageId": "polyglot-notebook"
    }
   },
   "outputs": [],
   "source": [
    "aws logs describe-log-groups"
   ]
  },
  {
   "cell_type": "code",
   "execution_count": null,
   "metadata": {
    "dotnet_interactive": {
     "language": "pwsh"
    },
    "polyglot_notebook": {
     "kernelName": "pwsh"
    },
    "vscode": {
     "languageId": "polyglot-notebook"
    }
   },
   "outputs": [],
   "source": [
    "aws logs describe-log-streams --log-group-name /aws/lambda/HandTermCdkStack-SignUpFunctionCFE784C5-qDLsuBvd1ODa --order-by LastEventTime --descending --limit 2"
   ]
  },
  {
   "cell_type": "code",
   "execution_count": null,
   "metadata": {
    "dotnet_interactive": {
     "language": "pwsh"
    },
    "polyglot_notebook": {
     "kernelName": "pwsh"
    },
    "vscode": {
     "languageId": "polyglot-notebook"
    }
   },
   "outputs": [],
   "source": [
    "aws logs filter-log-events `\n",
    "    --log-group-name /aws/lambda/HandTermCdkStack-SignUpFunctionCFE784C5-qDLsuBvd1ODa `\n",
    "    --filter-pattern '\"ERROR\"'"
   ]
  },
  {
   "cell_type": "code",
   "execution_count": null,
   "metadata": {
    "dotnet_interactive": {
     "language": "pwsh"
    },
    "polyglot_notebook": {
     "kernelName": "pwsh"
    },
    "vscode": {
     "languageId": "polyglot-notebook"
    }
   },
   "outputs": [],
   "source": [
    "aws logs get-log-events `\n",
    "  --log-group-name /aws/lambda/HandTermCdkStack-SignUpFunctionCFE784C5-qDLsuBvd1ODa `\n",
    "  --log-stream-name '2024/06/29/[$LATEST]d32288a07db64f3f85e0a95de858b4c9' --limit 10\n"
   ]
  },
  {
   "cell_type": "code",
   "execution_count": null,
   "metadata": {
    "dotnet_interactive": {
     "language": "pwsh"
    },
    "polyglot_notebook": {
     "kernelName": "pwsh"
    },
    "vscode": {
     "languageId": "polyglot-notebook"
    }
   },
   "outputs": [],
   "source": [
    "aws apigateway get-rest-apis | Set-Variable apisYaml\n",
    "$apisYaml"
   ]
  },
  {
   "cell_type": "code",
   "execution_count": null,
   "metadata": {
    "dotnet_interactive": {
     "language": "pwsh"
    },
    "polyglot_notebook": {
     "kernelName": "pwsh"
    },
    "vscode": {
     "languageId": "polyglot-notebook"
    }
   },
   "outputs": [],
   "source": [
    "$apisYaml | ConvertFrom-Yaml | Select-Object { $_.items } | Set-Variable apis\n",
    "$apis | select-object $_.items"
   ]
  },
  {
   "cell_type": "code",
   "execution_count": null,
   "metadata": {
    "dotnet_interactive": {
     "language": "pwsh"
    },
    "polyglot_notebook": {
     "kernelName": "pwsh"
    },
    "vscode": {
     "languageId": "polyglot-notebook"
    }
   },
   "outputs": [],
   "source": [
    "aws apigateway get-resources --rest-api-id u4ceo7qshi"
   ]
  },
  {
   "cell_type": "code",
   "execution_count": null,
   "metadata": {
    "dotnet_interactive": {
     "language": "pwsh"
    },
    "polyglot_notebook": {
     "kernelName": "pwsh"
    },
    "vscode": {
     "languageId": "polyglot-notebook"
    }
   },
   "outputs": [],
   "source": [
    "aws apigateway get-method --rest-api-id u4ceo7qshi --resource-id p1xomh011j --http-method OPTIONS"
   ]
  },
  {
   "cell_type": "code",
   "execution_count": null,
   "metadata": {
    "dotnet_interactive": {
     "language": "pwsh"
    },
    "polyglot_notebook": {
     "kernelName": "pwsh"
    },
    "vscode": {
     "languageId": "polyglot-notebook"
    }
   },
   "outputs": [],
   "source": [
    "curl -X POST 'https://u4ceo7qshi.execute-api.us-east-1.amazonaws.com/prod/signup'  'Content-Type: application/json' -d '{\"username\": \"example1@example.com\", \"password\": \"Pass_w0rd\", \"email\": \"example1@example.com\"}'"
   ]
  },
  {
   "cell_type": "code",
   "execution_count": null,
   "metadata": {
    "dotnet_interactive": {
     "language": "pwsh"
    },
    "polyglot_notebook": {
     "kernelName": "pwsh"
    },
    "vscode": {
     "languageId": "polyglot-notebook"
    }
   },
   "outputs": [],
   "source": [
    "curl 'https://u4ceo7qshi.execute-api.us-east-1.amazonaws.com/prod/signUp' `\n",
    "  -X 'OPTIONS' `\n",
    "  -H 'accept: */*' `\n",
    "  -H 'accept-language: en-US,en;q=0.9' `\n",
    "  -H 'access-control-request-headers: access-control-allow-origin,content-type' `\n",
    "  -H 'access-control-request-method: POST' `\n",
    "  -H 'origin: http://localhost:5173' `\n",
    "  -H 'priority: u=1, i' `\n",
    "  -H 'referer: http://localhost:5173/' `\n",
    "  -H 'sec-fetch-dest: empty' `\n",
    "  -H 'sec-fetch-mode: cors' `\n",
    "  -H 'sec-fetch-site: cross-site' `\n",
    "  -H 'user-agent: Mozilla/5.0 (Windows NT 10.0; Win64; x64) AppleWebKit/537.36 (KHTML, like Gecko) Chrome/126.0.0.0 Safari/537.36 Edg/126.0.0.0'"
   ]
  },
  {
   "cell_type": "code",
   "execution_count": null,
   "metadata": {
    "dotnet_interactive": {
     "language": "pwsh"
    },
    "polyglot_notebook": {
     "kernelName": "pwsh"
    },
    "vscode": {
     "languageId": "polyglot-notebook"
    }
   },
   "outputs": [],
   "source": [
    "curl 'https://u4ceo7qshi.execute-api.us-east-1.amazonaws.com/prod/signUp' `\n",
    "  -H 'sec-ch-ua: \"Not/A)Brand\";v=\"8\", \"Chromium\";v=\"126\", \"Microsoft Edge\";v=\"126\"' `\n",
    "  -H 'sec-ch-ua-mobile: ?0' `\n",
    "  -H 'User-Agent: Mozilla/5.0 (Windows NT 10.0; Win64; x64) AppleWebKit/537.36 (KHTML, like Gecko) Chrome/126.0.0.0 Safari/537.36 Edg/126.0.0.0' `\n",
    "  -H 'Content-Type: application/json' `\n",
    "  -H 'Access-Control-Allow-Origin: *' `\n",
    "  -H 'Accept: application/json, text/plain, */*' `\n",
    "  -H 'Referer: http://localhost:5173/' `\n",
    "  -H 'sec-ch-ua-platform: \"Windows\"' `\n",
    "  --data-raw '{\"username\":\"mark@bizkite.co\",\"password\":\"Pass_w0rd\",\"email\":\"mark@bizkite.co\"}'"
   ]
  },
  {
   "cell_type": "code",
   "execution_count": null,
   "metadata": {
    "dotnet_interactive": {
     "language": "pwsh"
    },
    "polyglot_notebook": {
     "kernelName": "pwsh"
    },
    "vscode": {
     "languageId": "polyglot-notebook"
    }
   },
   "outputs": [],
   "source": [
    "aws cognito-idp list-users --user-pool-id us-east-1_3uSNUrQbE --region us-east-1 --profile mark"
   ]
  },
  {
   "cell_type": "code",
   "execution_count": null,
   "metadata": {
    "dotnet_interactive": {
     "language": "pwsh"
    },
    "polyglot_notebook": {
     "kernelName": "pwsh"
    },
    "vscode": {
     "languageId": "polyglot-notebook"
    }
   },
   "outputs": [],
   "source": [
    "aws apigateway get-deployments --rest-api-id u4ceo7qshii"
   ]
  },
  {
   "cell_type": "code",
   "execution_count": null,
   "metadata": {
    "dotnet_interactive": {
     "language": "pwsh"
    },
    "polyglot_notebook": {
     "kernelName": "pwsh"
    },
    "vscode": {
     "languageId": "polyglot-notebook"
    }
   },
   "outputs": [],
   "source": []
  },
  {
   "cell_type": "code",
   "execution_count": null,
   "metadata": {
    "dotnet_interactive": {
     "language": "pwsh"
    },
    "polyglot_notebook": {
     "kernelName": "pwsh"
    },
    "vscode": {
     "languageId": "polyglot-notebook"
    }
   },
   "outputs": [],
   "source": [
    "aws cloudformation list-stack-resources --stack-name HandTermCdkStack --region us-east-1 --query \"StackResourceSummaries[?ResourceType=='AWS::Lambda::Function' && contains(PhysicalResourceId, 'GetLog')].PhysicalResourceId\" --output text | Set-Variable logGroupName\n",
    "$logGroupName = '/aws/lambda/' + $logGroupName\n",
    "$logGroupName"
   ]
  },
  {
   "cell_type": "code",
   "execution_count": null,
   "metadata": {
    "dotnet_interactive": {
     "language": "pwsh"
    },
    "polyglot_notebook": {
     "kernelName": "pwsh"
    },
    "vscode": {
     "languageId": "polyglot-notebook"
    }
   },
   "outputs": [],
   "source": [
    "aws logs describe-log-groups --log-group-name-prefix $logGroupName "
   ]
  },
  {
   "cell_type": "code",
   "execution_count": null,
   "metadata": {
    "dotnet_interactive": {
     "language": "pwsh"
    },
    "polyglot_notebook": {
     "kernelName": "pwsh"
    },
    "vscode": {
     "languageId": "polyglot-notebook"
    }
   },
   "outputs": [],
   "source": [
    "$latestLogStreamName = aws logs describe-log-streams --log-group-name $logGroupName --order-by LastEventTime --descending --max-items 1 --query \"logStreams[0].logStreamName\" --output text\n",
    "$latestLogStreamName"
   ]
  },
  {
   "cell_type": "code",
   "execution_count": null,
   "metadata": {
    "dotnet_interactive": {
     "language": "pwsh"
    },
    "polyglot_notebook": {
     "kernelName": "pwsh"
    },
    "vscode": {
     "languageId": "polyglot-notebook"
    }
   },
   "outputs": [],
   "source": [
    "aws logs get-log-events --log-group-name $logGroupName --log-stream-name $latestLogStreamName --limit 10"
   ]
  },
  {
   "cell_type": "code",
   "execution_count": 3,
   "metadata": {
    "dotnet_interactive": {
     "language": "pwsh"
    },
    "polyglot_notebook": {
     "kernelName": "pwsh"
    },
    "vscode": {
     "languageId": "polyglot-notebook"
    }
   },
   "outputs": [
    {
     "name": "stdout",
     "output_type": "stream",
     "text": [
      "Getting all files in \n",
      "1290\n"
     ]
    }
   ],
   "source": [
    "# Define the base S3 URI\n",
    "$baseUri = \"s3://handterm/\"\n",
    "$bucketName = \"handterm\"\n",
    "$prefix = \"user_data/\"\n",
    "$logType = @('char-time_';'command_')\n",
    "\n",
    "# Function to move files with the specified date pattern\n",
    "function Move-S3Files {\n",
    "    param (\n",
    "        [string]$BucketName,\n",
    "        [string]$Prefix\n",
    "    )\n",
    "\n",
    "    # Continuation token for paginated results\n",
    "    $continuationToken = $null\n",
    "\n",
    "    do {\n",
    "        # List all objects in the S3 bucket and prefix\n",
    "\n",
    "        Write-Host \"Getting all files in $($listObjectsParams.Bucket)\"\n",
    "        $response = aws s3api list-objects-v2 --bucket $BucketName --prefix $prefix --output json | ConvertFrom-Json\n",
    "\n",
    "        Write-Host $response.Contents.length\n",
    "\n",
    "        foreach ($object in $response.Contents) {\n",
    "            # Write-Host \"Found $($object.Key)\"\n",
    "            $objectKey = $object.Key\n",
    "            # Check if the object key matches the pattern\n",
    "            if ($objectKey -match \"command_(\\d{4})-(\\d{2})-(\\d{2})T(\\d{2}:\\d{2}:\\d{2}\\.\\d{3}Z\\.json)\") {\n",
    "                # Extract date components\n",
    "                $year = $matches[1]\n",
    "                $month = $matches[2]\n",
    "                $day = $matches[3]\n",
    "\n",
    "                # Construct the new S3 object key\n",
    "                $newKey = $objectKey -replace \"command_(\\d{4})-(\\d{2})-(\\d{2})\", \"char-time/$year/$month/$day/\"\n",
    "\n",
    "                # Write-Host \"Moving file $objectKey to $newKey\"\n",
    "                # Move the file to the new location\n",
    "                aws s3 mv \"$baseUri$objectKey\" \"$baseUri$newKey\"\n",
    "            }\n",
    "        }\n",
    "\n",
    "        # Check if there is more data to process\n",
    "        $continuationToken = if ($response.IsTruncated) { $response.NextContinuationToken } else { $null }\n",
    "\n",
    "    } while ($continuationToken -ne $null)\n",
    "}\n",
    "\n",
    "# Call the function to move files recursively\n",
    "Move-S3Files -BucketName $bucketName -Prefix $prefix"
   ]
  }
 ],
 "metadata": {
  "kernelspec": {
   "display_name": ".NET (C#)",
   "language": "C#",
   "name": ".net-csharp"
  },
  "language_info": {
   "codemirror_mode": {
    "name": "ipython",
    "version": 3
   },
   "file_extension": ".py",
   "mimetype": "text/x-python",
   "name": "python",
   "nbconvert_exporter": "python",
   "pygments_lexer": "ipython3",
   "version": "3.11.9"
  },
  "polyglot_notebook": {
   "kernelInfo": {
    "defaultKernelName": "csharp",
    "items": [
     {
      "aliases": [],
      "name": "csharp"
     }
    ]
   }
  }
 },
 "nbformat": 4,
 "nbformat_minor": 2
}
