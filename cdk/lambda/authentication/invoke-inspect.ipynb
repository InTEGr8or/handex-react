{
 "cells": [
  {
   "cell_type": "code",
   "execution_count": 18,
   "metadata": {
    "dotnet_interactive": {
     "language": "pwsh"
    },
    "polyglot_notebook": {
     "kernelName": "pwsh"
    },
    "vscode": {
     "languageId": "polyglot-notebook"
    }
   },
   "outputs": [
    {
     "name": "stdout",
     "output_type": "stream",
     "text": [
      "- ExecutedVersion: $LATEST\n",
      "  StatusCode: 200\n"
     ]
    }
   ],
   "source": [
    "\n",
    "# Define the payload with the 'body' property\n",
    "$payloadObject = @{\n",
    "    body = '{ \"username\": \"testuser\", \"password\": \"FastTrack#1\", \"email\": \"email@example.com\" }'\n",
    "}\n",
    "# Convert the payload object to JSON\n",
    "$payloadJson = $payloadObject | ConvertTo-Json\n",
    "# Convert the JSON to a UTF-8 byte array\n",
    "$bytes = [System.Text.Encoding]::UTF8.GetBytes($payloadJson)\n",
    "# Convert the byte array to a Base64-encoded string\n",
    "$base64 = [Convert]::ToBase64String($bytes)\n",
    "# Invoke the Lambda function with the Base64-encoded payload\n",
    "aws lambda invoke --function-name HandTermCdkStack-SignUpFunctionCFE784C5-qDLsuBvd1ODa --payload $base64 response.json "
   ]
  },
  {
   "cell_type": "code",
   "execution_count": null,
   "metadata": {
    "dotnet_interactive": {
     "language": "pwsh"
    },
    "polyglot_notebook": {
     "kernelName": "pwsh"
    },
    "vscode": {
     "languageId": "polyglot-notebook"
    }
   },
   "outputs": [],
   "source": [
    "aws configure list"
   ]
  },
  {
   "cell_type": "code",
   "execution_count": null,
   "metadata": {
    "dotnet_interactive": {
     "language": "pwsh"
    },
    "polyglot_notebook": {
     "kernelName": "pwsh"
    },
    "vscode": {
     "languageId": "polyglot-notebook"
    }
   },
   "outputs": [],
   "source": [
    "aws logs describe-log-groups"
   ]
  },
  {
   "cell_type": "code",
   "execution_count": null,
   "metadata": {
    "dotnet_interactive": {
     "language": "pwsh"
    },
    "polyglot_notebook": {
     "kernelName": "pwsh"
    },
    "vscode": {
     "languageId": "polyglot-notebook"
    }
   },
   "outputs": [],
   "source": [
    "aws logs describe-log-streams --log-group-name /aws/lambda/HandTermCdkStack-SignUpFunctionCFE784C5-qDLsuBvd1ODa --order-by LastEventTime --descending --limit 2"
   ]
  },
  {
   "cell_type": "code",
   "execution_count": 20,
   "metadata": {
    "dotnet_interactive": {
     "language": "pwsh"
    },
    "polyglot_notebook": {
     "kernelName": "pwsh"
    },
    "vscode": {
     "languageId": "polyglot-notebook"
    }
   },
   "outputs": [
    {
     "name": "stdout",
     "output_type": "stream",
     "text": [
      "- events:\n",
      "  - eventId: '38348737390716161842618998392881329820062974555417149441'\n",
      "    ingestionTime: 1719616867084\n",
      "    logStreamName: 2024/06/28/[$LATEST]4d6949ea302f4703847af4699d05b66a\n",
      "    message: \"2024-06-28T23:20:58.061Z\\t5a19c631-8d53-4c77-b5ba-5e554136c35b\\tERROR\\tInvoke\n",
      "      Error \\t{\\\"errorType\\\":\\\"TypeError\\\",\\\"errorMessage\\\":\\\"Cannot destructure property\n",
      "      'username' of 'JSON.parse(...)' as it is null.\\\",\\\"stack\\\":[\\\"TypeError: Cannot\n",
      "      destructure property 'username' of 'JSON.parse(...)' as it is null.\\\",\\\"    at\n",
      "      Runtime.exports.handler (/var/task/signUp.js:6:13)\\\",\\\"    at Runtime.handleOnceNonStreaming\n",
      "      (file:///var/runtime/index.mjs:1173:29)\\\"]}\\n\"\n",
      "    timestamp: 1719616858061\n",
      "  nextToken: Bxkq6kVGFtq2y_MoigeqscPOdhXVbhiVtLoAmXb5jCo5qtJXT0-WekG6cry7PdW9edzL16mL_9JiXe1FwOciu1QlQ2xNpzJanDdN1mcHW6hdVfBZ6xRgW9qKlnLqkwRSdE-x_r46erTfO1nRPukpHamt52kkVTHHGIfIddM3y3y00fa4a3n-v4io0AvKjxzRvgnNdVikpEVzDwwhSDXjc6LYtNF3GjgvfzLLm0ViGkq2TaZ1K5y96AuBq0nHEVwk7IesPyfdWQQ_rQAh3l_0CA\n",
      "  searchedLogStreams: []\n",
      "- events: []\n",
      "  nextToken: Bxkq6kVGFtq2y_MoigeqscPOdhXVbhiVtLoAmXb5jCqNTLyVbiXmr1B7OrB7VSuSvgbAK7ChZ4FlDf8XesoTYQ38s0iUxc7f6r2RBe8HDdEZr2c2GHAlUOh8JcTWQwkypcAH5nHtMjtGewJSMg364S6AZl25eYUOslgX_LGQdrEb9RDxpbgOIHAMx_Gh_LDGh60txM0mz7N7gKwWTaTa20JJ9M2zuwhBTRnRJyEFd7rhvDjTEQHwBB4ZbnTzIBFi0GRaAZ_AaDBOzaDJ3Ny8QQ\n",
      "  searchedLogStreams: []\n",
      "- events:\n",
      "  - eventId: '38349945555375120298092175391049496189095992368226566146'\n",
      "    ingestionTime: 1719671040259\n",
      "    logStreamName: 2024/06/29/[$LATEST]d3ceb5c94ddf40259d17813f7bb19123\n",
      "    message: \"2024-06-29T14:23:54.038Z\\t7e31e910-f042-44e4-877a-b9991ccb4e41\\tERROR\\tInvoke\n",
      "      Error \\t{\\\"errorType\\\":\\\"SyntaxError\\\",\\\"errorMessage\\\":\\\"Unexpected token u\n",
      "      in JSON at position 0\\\",\\\"stack\\\":[\\\"SyntaxError: Unexpected token u in JSON\n",
      "      at position 0\\\",\\\"    at JSON.parse (<anonymous>)\\\",\\\"    at Runtime.exports.handler\n",
      "      (/var/task/signUp.js:6:48)\\\",\\\"    at Runtime.handleOnceNonStreaming (file:///var/runtime/index.mjs:1173:29)\\\"]}\\n\"\n",
      "    timestamp: 1719671034038\n",
      "  nextToken: Bxkq6kVGFtq2y_MoigeqscPOdhXVbhiVtLoAmXb5jCrZk2eGnMyJKn40g6O-tF7efBmc88UrJhKyx164XDRxH_lra56kLyJN7Ugw99GksNChIxp1xCHw_XNbScvD0hliMxKpurAteqpaeNEQUn26cS-TigH_ybC9_TZVo4xeT6d2pjYxDQQnm3eRUTAsNZUwlDvPlnV4wIL1raAe9ETJ3cQ5ZfSHzlaS5gEMnA2rehoxTmYVyWP0Ht1jwnqms44SAlou5Sj60F_6xCNDpuqK3w\n",
      "  searchedLogStreams: []\n",
      "- events: []\n",
      "  nextToken: Bxkq6kVGFtq2y_MoigeqscPOdhXVbhiVtLoAmXb5jCoDLUhLeakv9BHgpaYONOLkralAr4Da2m76n4wVOq6lIBbRpYkdHwHxVOZqusshSQT_SOUCKTPRRmSe0aOYjVDfbgpyj5U7GToIYdsjSJTVIPuA6-VQySIdVL4FH5Nj8q77h8q3DdwbSkio1dScDqfjxRJC_ITe2YuwRGV0eKgHI2NXNxBQmvK_1vQu4ghfieWw5IhoAlQZ3YkxhN5w37d4AJ8a0NPiHO6YefO5mmexrg\n",
      "  searchedLogStreams: []\n",
      "- events:\n",
      "  - eventId: '38350277962700796228060329266831833233813676433648386049'\n",
      "    ingestionTime: 1719685939840\n",
      "    logStreamName: 2024/06/29/[$LATEST]001de1cfb9b44a87b42add15e34a253b\n",
      "    message: \"2024-06-29T18:32:19.698Z\\tundefined\\tERROR\\tUncaught Exception \\t{\\\"errorType\\\":\\\"Runtime.ImportModuleError\\\",\\\"errorMessage\\\":\\\"Error:\n",
      "      Cannot find module 'dotenv'\\\\nRequire stack:\\\\n- /var/task/signUp.js\\\\n- /var/runtime/index.mjs\\\",\\\"stack\\\":[\\\"Runtime.ImportModuleError:\n",
      "      Error: Cannot find module 'dotenv'\\\",\\\"Require stack:\\\",\\\"- /var/task/signUp.js\\\",\\\"-\n",
      "      /var/runtime/index.mjs\\\",\\\"    at _loadUserApp (file:///var/runtime/index.mjs:1087:17)\\\",\\\"\n",
      "      \\   at async Object.UserFunction.js.module.exports.load (file:///var/runtime/index.mjs:1119:21)\\\",\\\"\n",
      "      \\   at async start (file:///var/runtime/index.mjs:1282:23)\\\",\\\"    at async\n",
      "      file:///var/runtime/index.mjs:1288:1\\\"]}\\n\"\n",
      "    timestamp: 1719685939698\n",
      "  - eventId: '38350278043540997572733838159144489862323205247505727489'\n",
      "    ingestionTime: 1719685943352\n",
      "    logStreamName: 2024/06/29/[$LATEST]001de1cfb9b44a87b42add15e34a253b\n",
      "    message: \"2024-06-29T18:32:23.323Z\\tundefined\\tERROR\\tUncaught Exception \\t{\\\"errorType\\\":\\\"Runtime.ImportModuleError\\\",\\\"errorMessage\\\":\\\"Error:\n",
      "      Cannot find module 'dotenv'\\\\nRequire stack:\\\\n- /var/task/signUp.js\\\\n- /var/runtime/index.mjs\\\",\\\"stack\\\":[\\\"Runtime.ImportModuleError:\n",
      "      Error: Cannot find module 'dotenv'\\\",\\\"Require stack:\\\",\\\"- /var/task/signUp.js\\\",\\\"-\n",
      "      /var/runtime/index.mjs\\\",\\\"    at _loadUserApp (file:///var/runtime/index.mjs:1087:17)\\\",\\\"\n",
      "      \\   at async Object.UserFunction.js.module.exports.load (file:///var/runtime/index.mjs:1119:21)\\\",\\\"\n",
      "      \\   at async start (file:///var/runtime/index.mjs:1282:23)\\\",\\\"    at async\n",
      "      file:///var/runtime/index.mjs:1288:1\\\"]}\\n\"\n",
      "    timestamp: 1719685943323\n",
      "  nextToken: Bxkq6kVGFtq2y_MoigeqscPOdhXVbhiVtLoAmXb5jCp-ihHHE2JW_9C1pGilIFyGfxVybpCQUwbftNJ38odd41BdLH_4uArxMnbcm-UF95CpABFU4GoIjHzgZCnJrM79Tx1wLWBkgpBAXdoFHXymki0ztrjiaV83DWyVloo6PKsYn0E_JKmV394ae8UVfU2fOyJjJZGhQcXnG8k19OkROHcRfh1vjiMAoXrbQZMn5zouNZiO5mzWX6oWkcTR7tJY2OLGT0p9V4hUBAQvqn_ERQ\n",
      "  searchedLogStreams: []\n",
      "- events: []\n",
      "  nextToken: Bxkq6kVGFtq2y_MoigeqscPOdhXVbhiVtLoAmXb5jCp-V2LrPkdCEogSXaqYdm0TFdL6PnCv6Bwm8cOQYOlm4VuFn-EOzfReeaVecFij18DOiV24F_F-j5B2BLpDRAiqfXmSvNNEIHalo5UoqBlT7LQdxqC0W-Q7Y6WZHDRK0NeDHbeKk1WUpW9kopRrn435OzSpLxfoktDQR61dSpJ7aP7_1DKRl2X0N1akAgI0brrWc7V4LN5A2qyMTGR3nZlzKXrhNlac59ChZt7YgJqhXA\n",
      "  searchedLogStreams: []\n",
      "- events: []\n",
      "  searchedLogStreams: []\n"
     ]
    }
   ],
   "source": [
    "aws logs filter-log-events `\n",
    "    --log-group-name /aws/lambda/HandTermCdkStack-SignUpFunctionCFE784C5-qDLsuBvd1ODa `\n",
    "    --filter-pattern '\"ERROR\"'"
   ]
  },
  {
   "cell_type": "code",
   "execution_count": 19,
   "metadata": {
    "dotnet_interactive": {
     "language": "pwsh"
    },
    "polyglot_notebook": {
     "kernelName": "pwsh"
    },
    "vscode": {
     "languageId": "polyglot-notebook"
    }
   },
   "outputs": [
    {
     "name": "stdout",
     "output_type": "stream",
     "text": [
      "- events:\n",
      "  - ingestionTime: 1719683711226\n",
      "    message: \"INIT_START Runtime Version: nodejs:16.v36\\tRuntime Version ARN: arn:aws:lambda:us-east-1::runtime:30606511772fdc0f370d2d81900da3f8c7cd524f718237c6bebd61e4e1e853fa\\n\"\n",
      "    timestamp: 1719683709703\n",
      "  - ingestionTime: 1719683711226\n",
      "    message: 'START RequestId: 7c7d633f-f6f8-4df0-b1d9-fdcb91d08dea Version: $LATEST\n",
      "\n",
      "      '\n",
      "    timestamp: 1719683710130\n",
      "  - ingestionTime: 1719683711226\n",
      "    message: 'END RequestId: 7c7d633f-f6f8-4df0-b1d9-fdcb91d08dea\n",
      "\n",
      "      '\n",
      "    timestamp: 1719683710646\n",
      "  - ingestionTime: 1719683711226\n",
      "    message: \"REPORT RequestId: 7c7d633f-f6f8-4df0-b1d9-fdcb91d08dea\\tDuration: 515.89\n",
      "      ms\\tBilled Duration: 516 ms\\tMemory Size: 128 MB\\tMax Memory Used: 86 MB\\tInit\n",
      "      Duration: 425.77 ms\\t\\n\"\n",
      "    timestamp: 1719683710646\n",
      "  nextBackwardToken: b/38350228232150507230763374063658528220649037863212744704/s\n",
      "  nextForwardToken: f/38350228253180109952977751686126710551756442763352276995/s\n"
     ]
    }
   ],
   "source": [
    "aws logs get-log-events `\n",
    "  --log-group-name /aws/lambda/HandTermCdkStack-SignUpFunctionCFE784C5-qDLsuBvd1ODa `\n",
    "  --log-stream-name '2024/06/29/[$LATEST]d32288a07db64f3f85e0a95de858b4c9' --limit 10\n"
   ]
  }
 ],
 "metadata": {
  "kernelspec": {
   "display_name": ".NET (C#)",
   "language": "C#",
   "name": ".net-csharp"
  },
  "language_info": {
   "codemirror_mode": {
    "name": "ipython",
    "version": 3
   },
   "file_extension": ".py",
   "mimetype": "text/x-python",
   "name": "python",
   "nbconvert_exporter": "python",
   "pygments_lexer": "ipython3",
   "version": "3.11.9"
  },
  "polyglot_notebook": {
   "kernelInfo": {
    "defaultKernelName": "csharp",
    "items": [
     {
      "aliases": [],
      "name": "csharp"
     }
    ]
   }
  }
 },
 "nbformat": 4,
 "nbformat_minor": 2
}
